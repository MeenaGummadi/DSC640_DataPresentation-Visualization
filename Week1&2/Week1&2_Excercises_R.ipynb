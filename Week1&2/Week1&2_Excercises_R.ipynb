{
 "cells": [
  {
   "cell_type": "markdown",
   "id": "feeeb37e",
   "metadata": {},
   "source": [
    "# Excercises in R"
   ]
  },
  {
   "cell_type": "code",
   "execution_count": 1,
   "id": "9d4e870d",
   "metadata": {
    "scrolled": true
   },
   "outputs": [
    {
     "name": "stderr",
     "output_type": "stream",
     "text": [
      "\n",
      "Attaching package: 'dplyr'\n",
      "\n",
      "\n",
      "The following objects are masked from 'package:stats':\n",
      "\n",
      "    filter, lag\n",
      "\n",
      "\n",
      "The following objects are masked from 'package:base':\n",
      "\n",
      "    intersect, setdiff, setequal, union\n",
      "\n",
      "\n",
      "java.home option: \n",
      "\n",
      "JAVA_HOME environment variable: C:\\Users\\meena\\anaconda3\\Library\\lib\\jvm\n",
      "\n",
      "Warning message in fun(libname, pkgname):\n",
      "\"Java home setting is INVALID, it will be ignored.\n",
      "Please do NOT set it unless you want to override system settings.\"\n"
     ]
    }
   ],
   "source": [
    "# Import required packages\n",
    "library('magrittr')\n",
    "library(\"ggplot2\")\n",
    "library(\"dplyr\")\n",
    "library(\"xlsx\")"
   ]
  },
  {
   "cell_type": "code",
   "execution_count": 2,
   "id": "772a61eb",
   "metadata": {
    "scrolled": true
   },
   "outputs": [
    {
     "data": {
      "text/html": [
       "<table class=\"dataframe\">\n",
       "<caption>A data.frame: 13 × 4</caption>\n",
       "<thead>\n",
       "\t<tr><th scope=col>Issue</th><th scope=col>Approve</th><th scope=col>Disapprove</th><th scope=col>None</th></tr>\n",
       "\t<tr><th scope=col>&lt;chr&gt;</th><th scope=col>&lt;dbl&gt;</th><th scope=col>&lt;dbl&gt;</th><th scope=col>&lt;dbl&gt;</th></tr>\n",
       "</thead>\n",
       "<tbody>\n",
       "\t<tr><td>Race Relations          </td><td>52</td><td>38</td><td>10</td></tr>\n",
       "\t<tr><td>Education               </td><td>49</td><td>40</td><td>11</td></tr>\n",
       "\t<tr><td>Terrorism               </td><td>48</td><td>45</td><td> 7</td></tr>\n",
       "\t<tr><td>Energy Policy           </td><td>47</td><td>42</td><td>11</td></tr>\n",
       "\t<tr><td>Foreign Affairs         </td><td>44</td><td>48</td><td> 8</td></tr>\n",
       "\t<tr><td>Environment             </td><td>43</td><td>51</td><td> 6</td></tr>\n",
       "\t<tr><td>Situation in Iraq       </td><td>41</td><td>53</td><td> 6</td></tr>\n",
       "\t<tr><td>Taxes                   </td><td>41</td><td>54</td><td> 5</td></tr>\n",
       "\t<tr><td>Healthcare Policy       </td><td>40</td><td>57</td><td> 3</td></tr>\n",
       "\t<tr><td>Economy                 </td><td>38</td><td>59</td><td> 3</td></tr>\n",
       "\t<tr><td>Situation in Afghanistan</td><td>36</td><td>57</td><td> 7</td></tr>\n",
       "\t<tr><td>Federal Budget Deficit  </td><td>31</td><td>64</td><td> 5</td></tr>\n",
       "\t<tr><td>Immigration             </td><td>29</td><td>62</td><td> 9</td></tr>\n",
       "</tbody>\n",
       "</table>\n"
      ],
      "text/latex": [
       "A data.frame: 13 × 4\n",
       "\\begin{tabular}{llll}\n",
       " Issue & Approve & Disapprove & None\\\\\n",
       " <chr> & <dbl> & <dbl> & <dbl>\\\\\n",
       "\\hline\n",
       "\t Race Relations           & 52 & 38 & 10\\\\\n",
       "\t Education                & 49 & 40 & 11\\\\\n",
       "\t Terrorism                & 48 & 45 &  7\\\\\n",
       "\t Energy Policy            & 47 & 42 & 11\\\\\n",
       "\t Foreign Affairs          & 44 & 48 &  8\\\\\n",
       "\t Environment              & 43 & 51 &  6\\\\\n",
       "\t Situation in Iraq        & 41 & 53 &  6\\\\\n",
       "\t Taxes                    & 41 & 54 &  5\\\\\n",
       "\t Healthcare Policy        & 40 & 57 &  3\\\\\n",
       "\t Economy                  & 38 & 59 &  3\\\\\n",
       "\t Situation in Afghanistan & 36 & 57 &  7\\\\\n",
       "\t Federal Budget Deficit   & 31 & 64 &  5\\\\\n",
       "\t Immigration              & 29 & 62 &  9\\\\\n",
       "\\end{tabular}\n"
      ],
      "text/markdown": [
       "\n",
       "A data.frame: 13 × 4\n",
       "\n",
       "| Issue &lt;chr&gt; | Approve &lt;dbl&gt; | Disapprove &lt;dbl&gt; | None &lt;dbl&gt; |\n",
       "|---|---|---|---|\n",
       "| Race Relations           | 52 | 38 | 10 |\n",
       "| Education                | 49 | 40 | 11 |\n",
       "| Terrorism                | 48 | 45 |  7 |\n",
       "| Energy Policy            | 47 | 42 | 11 |\n",
       "| Foreign Affairs          | 44 | 48 |  8 |\n",
       "| Environment              | 43 | 51 |  6 |\n",
       "| Situation in Iraq        | 41 | 53 |  6 |\n",
       "| Taxes                    | 41 | 54 |  5 |\n",
       "| Healthcare Policy        | 40 | 57 |  3 |\n",
       "| Economy                  | 38 | 59 |  3 |\n",
       "| Situation in Afghanistan | 36 | 57 |  7 |\n",
       "| Federal Budget Deficit   | 31 | 64 |  5 |\n",
       "| Immigration              | 29 | 62 |  9 |\n",
       "\n"
      ],
      "text/plain": [
       "   Issue                    Approve Disapprove None\n",
       "1  Race Relations           52      38         10  \n",
       "2  Education                49      40         11  \n",
       "3  Terrorism                48      45          7  \n",
       "4  Energy Policy            47      42         11  \n",
       "5  Foreign Affairs          44      48          8  \n",
       "6  Environment              43      51          6  \n",
       "7  Situation in Iraq        41      53          6  \n",
       "8  Taxes                    41      54          5  \n",
       "9  Healthcare Policy        40      57          3  \n",
       "10 Economy                  38      59          3  \n",
       "11 Situation in Afghanistan 36      57          7  \n",
       "12 Federal Budget Deficit   31      64          5  \n",
       "13 Immigration              29      62          9  "
      ]
     },
     "metadata": {},
     "output_type": "display_data"
    }
   ],
   "source": [
    "# Reading Excel file\n",
    "file = paste(getwd(), '/obama-approval-ratings.xls', sep = '')\n",
    "approval = xlsx::read.xlsx(file, sheetIndex = 1, stringsAsFactors = FALSE)\n",
    "\n",
    "approval"
   ]
  },
  {
   "cell_type": "markdown",
   "id": "8601a062",
   "metadata": {},
   "source": [
    "#### Bar chart - R"
   ]
  },
  {
   "cell_type": "code",
   "execution_count": 3,
   "id": "8d9293ea",
   "metadata": {
    "scrolled": true
   },
   "outputs": [
    {
     "data": {
      "image/png": "[encoded data removed]",
      "text/plain": [
       "plot without title"
      ]
     },
     "metadata": {
      "image/png": {
       "height": 420,
       "width": 420
      }
     },
     "output_type": "display_data"
    }
   ],
   "source": [
    "# I have plotted the Issue on the x-axis and use approval ratings as my Y-axis\n",
    "\n",
    "approval %>%\n",
    "    dplyr::select(Issue, Approve) %>%\n",
    "    dplyr::arrange(-Approve) %>%\n",
    "    dplyr::mutate(SortOrder = factor(Issue, Issue)) %>% \n",
    "    ggplot2::ggplot(ggplot2::aes(x=SortOrder, y=Approve, fill=Issue)) +\n",
    "        ggplot2::geom_bar(stat='identity', color='black') + \n",
    "        ggplot2::xlab('Issue') + ggplot2::ylab('Approval Count') +\n",
    "        ggplot2::theme(axis.text.x=element_blank()) +\n",
    "        ggplot2::ggtitle('Obama Approval Rating')"
   ]
  },
  {
   "cell_type": "markdown",
   "id": "666e0fbb",
   "metadata": {},
   "source": [
    "#### Stacked Bar Chart - R"
   ]
  },
  {
   "cell_type": "code",
   "execution_count": 4,
   "id": "430e0e97",
   "metadata": {},
   "outputs": [
    {
     "data": {
      "image/png": "[encoded data removed]",
      "text/plain": [
       "plot without title"
      ]
     },
     "metadata": {
      "image/png": {
       "height": 420,
       "width": 420
      }
     },
     "output_type": "display_data"
    }
   ],
   "source": [
    "# I will chart each issue with its corresponding Approval, Disapproval, and Neutral counts for this. \n",
    "#For each topic, a 100% stacked bar chart will be produced in order to accurately depict the responses.\n",
    "obama_long = approval %>%\n",
    "    tidyr::gather('Reaction','Ratings', Approve, Disapprove, None)\n",
    "\n",
    "# Plot stacked\n",
    "ggplot2::ggplot(data = obama_long, ggplot2::aes(x = Issue, y = Ratings, fill = Reaction)) + \n",
    "    ggplot2:: geom_bar(stat='identity') + \n",
    "    ggplot2::theme(axis.text.x = element_text(angle = 90, hjust = 1)) + \n",
    "    ggplot2::scale_fill_brewer(palette = 15)"
   ]
  },
  {
   "cell_type": "markdown",
   "id": "30141ce4",
   "metadata": {},
   "source": [
    "#### Pie chart - R"
   ]
  },
  {
   "cell_type": "code",
   "execution_count": 5,
   "id": "43de4ee5",
   "metadata": {},
   "outputs": [
    {
     "data": {
      "image/png": "[encoded data removed]",
      "text/plain": [
       "plot without title"
      ]
     },
     "metadata": {
      "image/png": {
       "height": 420,
       "width": 420
      }
     },
     "output_type": "display_data"
    }
   ],
   "source": [
    "# I'd like to choose the immigration topic to illustrate a pie chart and plot the various ratings on it.\n",
    "#For this purpose, I would need the long data set. Because we need the stacked chart before creating pie chart from it\n",
    "# Since pie chart is not easy to digest, I would NOT use the same color family for the different sections\n",
    "obama_long %>%\n",
    "    dplyr::filter(Issue=='Immigration') %>%\n",
    "    ggplot2::ggplot(ggplot2::aes(x=\"\", y=Ratings, fill=Reaction))+\n",
    "        ggplot2::geom_bar(width = 1, stat = 'identity') +\n",
    "        ggplot2::coord_polar('y', start=0) + \n",
    "        ggplot2::geom_text(aes(label = Ratings), position = position_stack(vjust = 0.5)) +\n",
    "        ggplot2::ggtitle(label = 'Reaction on Immigration Issue in Obama Era') +\n",
    "        ggplot2::scale_fill_brewer(palette='Spectral') + \n",
    "        ggplot2::theme(axis.line = element_blank(),\n",
    "          axis.text = element_blank(),\n",
    "          axis.ticks = element_blank(),\n",
    "          plot.title = element_text(hjust = 0.5))"
   ]
  },
  {
   "cell_type": "markdown",
   "id": "3a21a389",
   "metadata": {},
   "source": [
    "#### Donut Chart - R"
   ]
  },
  {
   "cell_type": "code",
   "execution_count": 6,
   "id": "c6782d2a",
   "metadata": {},
   "outputs": [
    {
     "data": {
      "image/png": "[encoded data removed]",
      "text/plain": [
       "plot without title"
      ]
     },
     "metadata": {
      "image/png": {
       "height": 420,
       "width": 420
      }
     },
     "output_type": "display_data"
    }
   ],
   "source": [
    "#I want to choose the Education topic for the donut chart demonstration and plot the various ratings in the form of a donut.\n",
    "obama_long %>%\n",
    "    dplyr::filter(Issue=='Education') %>%\n",
    "    dplyr::mutate(ymax=cumsum(Ratings),\n",
    "                  ymin=c(0,ymax[1:length(ymax)-1])) %>%\n",
    "    ggplot2::ggplot(ggplot2::aes(fill=Reaction, ymax=ymax, ymin=ymin, xmax=4, xmin=3)) +\n",
    "         ggplot2::geom_rect() +\n",
    "         ggplot2::coord_polar(theta='y') +\n",
    "         ggplot2::xlim(c(0, 4)) +\n",
    "         ggplot2::theme(panel.grid=element_blank()) +\n",
    "         ggplot2::theme(axis.text=element_blank()) +\n",
    "         ggplot2::theme(axis.ticks=element_blank()) +\n",
    "         ggplot2::annotate('text', x = 0, y = 0, label = 'Reaction on Education') +\n",
    "         ggplot2::labs(title='')"
   ]
  }
 ],
 "metadata": {
  "kernelspec": {
   "display_name": "R",
   "language": "R",
   "name": "ir"
  },
  "language_info": {
   "codemirror_mode": "r",
   "file_extension": ".r",
   "mimetype": "text/x-r-source",
   "name": "R",
   "pygments_lexer": "r",
   "version": "4.1.3"
  }
 },
 "nbformat": 4,
 "nbformat_minor": 5
}
