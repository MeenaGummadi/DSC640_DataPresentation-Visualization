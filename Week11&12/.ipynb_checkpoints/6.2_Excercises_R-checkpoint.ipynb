{
 "cells": [
  {
   "cell_type": "markdown",
   "id": "50410ca2",
   "metadata": {},
   "source": [
    "# R plots"
   ]
  },
  {
   "cell_type": "code",
   "execution_count": 1,
   "id": "c4bff07e",
   "metadata": {
    "scrolled": false
   },
   "outputs": [],
   "source": [
    "# install.packages(\"reshape2\")"
   ]
  },
  {
   "cell_type": "code",
   "execution_count": 2,
   "id": "b9e89f1c",
   "metadata": {
    "scrolled": true
   },
   "outputs": [],
   "source": [
    "library('magrittr')\n",
    "library(\"reshape2\")\n",
    "source(\"BulletGraph.R\", local=TRUE)"
   ]
  },
  {
   "cell_type": "code",
   "execution_count": 3,
   "id": "fcfb3804",
   "metadata": {},
   "outputs": [],
   "source": [
    "birthrate <- read.csv('ex6-2/birth-rate.csv')\n",
    "crime <- read.csv('ex6-2/crimeratesbystate-formatted.csv')\n",
    "education <- read.csv('ex6-2/education.csv') "
   ]
  },
  {
   "cell_type": "code",
   "execution_count": 4,
   "id": "fbb202ea",
   "metadata": {
    "scrolled": true
   },
   "outputs": [
    {
     "data": {
      "text/html": [
       "<style>\n",
       ".list-inline {list-style: none; margin:0; padding: 0}\n",
       ".list-inline>li {display: inline-block}\n",
       ".list-inline>li:not(:last-child)::after {content: \"\\00b7\"; padding: 0 .5ex}\n",
       "</style>\n",
       "<ol class=list-inline><li>'Country'</li><li>'X1960'</li><li>'X1961'</li><li>'X1962'</li><li>'X1963'</li><li>'X1964'</li><li>'X1965'</li><li>'X1966'</li><li>'X1967'</li><li>'X1968'</li><li>'X1969'</li><li>'X1970'</li><li>'X1971'</li><li>'X1972'</li><li>'X1973'</li><li>'X1974'</li><li>'X1975'</li><li>'X1976'</li><li>'X1977'</li><li>'X1978'</li><li>'X1979'</li><li>'X1980'</li><li>'X1981'</li><li>'X1982'</li><li>'X1983'</li><li>'X1984'</li><li>'X1985'</li><li>'X1986'</li><li>'X1987'</li><li>'X1988'</li><li>'X1989'</li><li>'X1990'</li><li>'X1991'</li><li>'X1992'</li><li>'X1993'</li><li>'X1994'</li><li>'X1995'</li><li>'X1996'</li><li>'X1997'</li><li>'X1998'</li><li>'X1999'</li><li>'X2000'</li><li>'X2001'</li><li>'X2002'</li><li>'X2003'</li><li>'X2004'</li><li>'X2005'</li><li>'X2006'</li><li>'X2007'</li><li>'X2008'</li></ol>\n"
      ],
      "text/latex": [
       "\\begin{enumerate*}\n",
       "\\item 'Country'\n",
       "\\item 'X1960'\n",
       "\\item 'X1961'\n",
       "\\item 'X1962'\n",
       "\\item 'X1963'\n",
       "\\item 'X1964'\n",
       "\\item 'X1965'\n",
       "\\item 'X1966'\n",
       "\\item 'X1967'\n",
       "\\item 'X1968'\n",
       "\\item 'X1969'\n",
       "\\item 'X1970'\n",
       "\\item 'X1971'\n",
       "\\item 'X1972'\n",
       "\\item 'X1973'\n",
       "\\item 'X1974'\n",
       "\\item 'X1975'\n",
       "\\item 'X1976'\n",
       "\\item 'X1977'\n",
       "\\item 'X1978'\n",
       "\\item 'X1979'\n",
       "\\item 'X1980'\n",
       "\\item 'X1981'\n",
       "\\item 'X1982'\n",
       "\\item 'X1983'\n",
       "\\item 'X1984'\n",
       "\\item 'X1985'\n",
       "\\item 'X1986'\n",
       "\\item 'X1987'\n",
       "\\item 'X1988'\n",
       "\\item 'X1989'\n",
       "\\item 'X1990'\n",
       "\\item 'X1991'\n",
       "\\item 'X1992'\n",
       "\\item 'X1993'\n",
       "\\item 'X1994'\n",
       "\\item 'X1995'\n",
       "\\item 'X1996'\n",
       "\\item 'X1997'\n",
       "\\item 'X1998'\n",
       "\\item 'X1999'\n",
       "\\item 'X2000'\n",
       "\\item 'X2001'\n",
       "\\item 'X2002'\n",
       "\\item 'X2003'\n",
       "\\item 'X2004'\n",
       "\\item 'X2005'\n",
       "\\item 'X2006'\n",
       "\\item 'X2007'\n",
       "\\item 'X2008'\n",
       "\\end{enumerate*}\n"
      ],
      "text/markdown": [
       "1. 'Country'\n",
       "2. 'X1960'\n",
       "3. 'X1961'\n",
       "4. 'X1962'\n",
       "5. 'X1963'\n",
       "6. 'X1964'\n",
       "7. 'X1965'\n",
       "8. 'X1966'\n",
       "9. 'X1967'\n",
       "10. 'X1968'\n",
       "11. 'X1969'\n",
       "12. 'X1970'\n",
       "13. 'X1971'\n",
       "14. 'X1972'\n",
       "15. 'X1973'\n",
       "16. 'X1974'\n",
       "17. 'X1975'\n",
       "18. 'X1976'\n",
       "19. 'X1977'\n",
       "20. 'X1978'\n",
       "21. 'X1979'\n",
       "22. 'X1980'\n",
       "23. 'X1981'\n",
       "24. 'X1982'\n",
       "25. 'X1983'\n",
       "26. 'X1984'\n",
       "27. 'X1985'\n",
       "28. 'X1986'\n",
       "29. 'X1987'\n",
       "30. 'X1988'\n",
       "31. 'X1989'\n",
       "32. 'X1990'\n",
       "33. 'X1991'\n",
       "34. 'X1992'\n",
       "35. 'X1993'\n",
       "36. 'X1994'\n",
       "37. 'X1995'\n",
       "38. 'X1996'\n",
       "39. 'X1997'\n",
       "40. 'X1998'\n",
       "41. 'X1999'\n",
       "42. 'X2000'\n",
       "43. 'X2001'\n",
       "44. 'X2002'\n",
       "45. 'X2003'\n",
       "46. 'X2004'\n",
       "47. 'X2005'\n",
       "48. 'X2006'\n",
       "49. 'X2007'\n",
       "50. 'X2008'\n",
       "\n",
       "\n"
      ],
      "text/plain": [
       " [1] \"Country\" \"X1960\"   \"X1961\"   \"X1962\"   \"X1963\"   \"X1964\"   \"X1965\"  \n",
       " [8] \"X1966\"   \"X1967\"   \"X1968\"   \"X1969\"   \"X1970\"   \"X1971\"   \"X1972\"  \n",
       "[15] \"X1973\"   \"X1974\"   \"X1975\"   \"X1976\"   \"X1977\"   \"X1978\"   \"X1979\"  \n",
       "[22] \"X1980\"   \"X1981\"   \"X1982\"   \"X1983\"   \"X1984\"   \"X1985\"   \"X1986\"  \n",
       "[29] \"X1987\"   \"X1988\"   \"X1989\"   \"X1990\"   \"X1991\"   \"X1992\"   \"X1993\"  \n",
       "[36] \"X1994\"   \"X1995\"   \"X1996\"   \"X1997\"   \"X1998\"   \"X1999\"   \"X2000\"  \n",
       "[43] \"X2001\"   \"X2002\"   \"X2003\"   \"X2004\"   \"X2005\"   \"X2006\"   \"X2007\"  \n",
       "[50] \"X2008\"  "
      ]
     },
     "metadata": {},
     "output_type": "display_data"
    }
   ],
   "source": [
    "colnames(birthrate)"
   ]
  },
  {
   "cell_type": "code",
   "execution_count": 5,
   "id": "6b80aea5",
   "metadata": {
    "scrolled": true
   },
   "outputs": [
    {
     "data": {
      "text/html": [
       "<style>\n",
       ".list-inline {list-style: none; margin:0; padding: 0}\n",
       ".list-inline>li {display: inline-block}\n",
       ".list-inline>li:not(:last-child)::after {content: \"\\00b7\"; padding: 0 .5ex}\n",
       "</style>\n",
       "<ol class=list-inline><li>'Country'</li><li>'1960'</li><li>'1961'</li><li>'1962'</li><li>'1963'</li><li>'1964'</li><li>'1965'</li><li>'1966'</li><li>'1967'</li><li>'1968'</li><li>'1969'</li><li>'1970'</li><li>'1971'</li><li>'1972'</li><li>'1973'</li><li>'1974'</li><li>'1975'</li><li>'1976'</li><li>'1977'</li><li>'1978'</li><li>'1979'</li><li>'1980'</li><li>'1981'</li><li>'1982'</li><li>'1983'</li><li>'1984'</li><li>'1985'</li><li>'1986'</li><li>'1987'</li><li>'1988'</li><li>'1989'</li><li>'1990'</li><li>'1991'</li><li>'1992'</li><li>'1993'</li><li>'1994'</li><li>'1995'</li><li>'1996'</li><li>'1997'</li><li>'1998'</li><li>'1999'</li><li>'2000'</li><li>'2001'</li><li>'2002'</li><li>'2003'</li><li>'2004'</li><li>'2005'</li><li>'2006'</li><li>'2007'</li><li>'2008'</li></ol>\n"
      ],
      "text/latex": [
       "\\begin{enumerate*}\n",
       "\\item 'Country'\n",
       "\\item '1960'\n",
       "\\item '1961'\n",
       "\\item '1962'\n",
       "\\item '1963'\n",
       "\\item '1964'\n",
       "\\item '1965'\n",
       "\\item '1966'\n",
       "\\item '1967'\n",
       "\\item '1968'\n",
       "\\item '1969'\n",
       "\\item '1970'\n",
       "\\item '1971'\n",
       "\\item '1972'\n",
       "\\item '1973'\n",
       "\\item '1974'\n",
       "\\item '1975'\n",
       "\\item '1976'\n",
       "\\item '1977'\n",
       "\\item '1978'\n",
       "\\item '1979'\n",
       "\\item '1980'\n",
       "\\item '1981'\n",
       "\\item '1982'\n",
       "\\item '1983'\n",
       "\\item '1984'\n",
       "\\item '1985'\n",
       "\\item '1986'\n",
       "\\item '1987'\n",
       "\\item '1988'\n",
       "\\item '1989'\n",
       "\\item '1990'\n",
       "\\item '1991'\n",
       "\\item '1992'\n",
       "\\item '1993'\n",
       "\\item '1994'\n",
       "\\item '1995'\n",
       "\\item '1996'\n",
       "\\item '1997'\n",
       "\\item '1998'\n",
       "\\item '1999'\n",
       "\\item '2000'\n",
       "\\item '2001'\n",
       "\\item '2002'\n",
       "\\item '2003'\n",
       "\\item '2004'\n",
       "\\item '2005'\n",
       "\\item '2006'\n",
       "\\item '2007'\n",
       "\\item '2008'\n",
       "\\end{enumerate*}\n"
      ],
      "text/markdown": [
       "1. 'Country'\n",
       "2. '1960'\n",
       "3. '1961'\n",
       "4. '1962'\n",
       "5. '1963'\n",
       "6. '1964'\n",
       "7. '1965'\n",
       "8. '1966'\n",
       "9. '1967'\n",
       "10. '1968'\n",
       "11. '1969'\n",
       "12. '1970'\n",
       "13. '1971'\n",
       "14. '1972'\n",
       "15. '1973'\n",
       "16. '1974'\n",
       "17. '1975'\n",
       "18. '1976'\n",
       "19. '1977'\n",
       "20. '1978'\n",
       "21. '1979'\n",
       "22. '1980'\n",
       "23. '1981'\n",
       "24. '1982'\n",
       "25. '1983'\n",
       "26. '1984'\n",
       "27. '1985'\n",
       "28. '1986'\n",
       "29. '1987'\n",
       "30. '1988'\n",
       "31. '1989'\n",
       "32. '1990'\n",
       "33. '1991'\n",
       "34. '1992'\n",
       "35. '1993'\n",
       "36. '1994'\n",
       "37. '1995'\n",
       "38. '1996'\n",
       "39. '1997'\n",
       "40. '1998'\n",
       "41. '1999'\n",
       "42. '2000'\n",
       "43. '2001'\n",
       "44. '2002'\n",
       "45. '2003'\n",
       "46. '2004'\n",
       "47. '2005'\n",
       "48. '2006'\n",
       "49. '2007'\n",
       "50. '2008'\n",
       "\n",
       "\n"
      ],
      "text/plain": [
       " [1] \"Country\" \"1960\"    \"1961\"    \"1962\"    \"1963\"    \"1964\"    \"1965\"   \n",
       " [8] \"1966\"    \"1967\"    \"1968\"    \"1969\"    \"1970\"    \"1971\"    \"1972\"   \n",
       "[15] \"1973\"    \"1974\"    \"1975\"    \"1976\"    \"1977\"    \"1978\"    \"1979\"   \n",
       "[22] \"1980\"    \"1981\"    \"1982\"    \"1983\"    \"1984\"    \"1985\"    \"1986\"   \n",
       "[29] \"1987\"    \"1988\"    \"1989\"    \"1990\"    \"1991\"    \"1992\"    \"1993\"   \n",
       "[36] \"1994\"    \"1995\"    \"1996\"    \"1997\"    \"1998\"    \"1999\"    \"2000\"   \n",
       "[43] \"2001\"    \"2002\"    \"2003\"    \"2004\"    \"2005\"    \"2006\"    \"2007\"   \n",
       "[50] \"2008\"   "
      ]
     },
     "metadata": {},
     "output_type": "display_data"
    }
   ],
   "source": [
    "colnames(birthrate) <- gsub(\"X\", \"\", colnames(birthrate))\n",
    "\n",
    "# check column names\n",
    "colnames(birthrate)"
   ]
  },
  {
   "cell_type": "markdown",
   "id": "5fcff0c3",
   "metadata": {},
   "source": [
    "## R-Histogram"
   ]
  },
  {
   "cell_type": "code",
   "execution_count": 6,
   "id": "b8cf1224",
   "metadata": {
    "scrolled": true
   },
   "outputs": [
    {
     "data": {
      "image/png": "[encoded data removed]",
      "text/plain": [
       "Plot with title \"\""
      ]
     },
     "metadata": {
      "image/png": {
       "height": 300,
       "width": 480
      }
     },
     "output_type": "display_data"
    }
   ],
   "source": [
    "options(repr.plot.width = 8, repr.plot.height = 5)\n",
    "\n",
    "birthrate_hist <- reshape2::melt(birthrate, id=c(\"Country\")) %>%\n",
    "  dplyr::mutate(\"Country\" = as.character(Country),\n",
    "                \"Year\" = as.character(variable),\n",
    "                \"Population\" = value,\n",
    "                \"Population_int\" = ceiling(value)) %>% \n",
    "  dplyr::select(c(\"Country\",\"Year\",\"Population\", \"Population_int\"))\n",
    "\n",
    "hist(birthrate_hist$Population, col=rgb(0,0.2,0.5,0.5) , border=F , main=\"\")"
   ]
  },
  {
   "cell_type": "markdown",
   "id": "7f50133e",
   "metadata": {},
   "source": [
    "## R-Box plot"
   ]
  },
  {
   "cell_type": "code",
   "execution_count": 7,
   "id": "5ebcdf2f",
   "metadata": {},
   "outputs": [
    {
     "data": {
      "image/png": "[encoded data removed]",
      "text/plain": [
       "plot without title"
      ]
     },
     "metadata": {
      "image/png": {
       "height": 300,
       "width": 480
      }
     },
     "output_type": "display_data"
    }
   ],
   "source": [
    "birthrate_box <- birthrate_hist %>% \n",
    "  dplyr::filter(Country %in% c(\"United States\", \"India\"))\n",
    "\n",
    "boxplot(birthrate_box$Population ~ birthrate_box$Country , col=\"skyblue\")"
   ]
  },
  {
   "cell_type": "markdown",
   "id": "e62ba3c1",
   "metadata": {},
   "source": [
    "## R-Bullet graph"
   ]
  },
  {
   "cell_type": "code",
   "execution_count": 8,
   "id": "41337415",
   "metadata": {},
   "outputs": [
    {
     "data": {
      "image/png": "[encoded data removed]",
      "text/plain": [
       "plot without title"
      ]
     },
     "metadata": {
      "image/png": {
       "height": 300,
       "width": 480
      }
     },
     "output_type": "display_data"
    }
   ],
   "source": [
    "crime_bullet <- crime %>% \n",
    "  dplyr::filter(stringr::str_trim(state, \"both\") == \"United States\") %>% \n",
    "  dplyr::select(c(state, burglary))\n",
    "bulletgraph(x=crime_bullet$burglary,ref=650,limits=c(0,500,750,1000),\n",
    "            name= \"USA Crime metrics\",subname=\"Burglary\",\n",
    "            col=\"steelblue4\",shades=\"firebrick\")\n"
   ]
  },
  {
   "cell_type": "markdown",
   "id": "eebee418",
   "metadata": {},
   "source": [
    "## R-Donut chart"
   ]
  },
  {
   "cell_type": "code",
   "execution_count": 9,
   "id": "a7de3f44",
   "metadata": {},
   "outputs": [
    {
     "data": {
      "image/png": "[encoded data removed]",
      "text/plain": [
       "plot without title"
      ]
     },
     "metadata": {
      "image/png": {
       "height": 300,
       "width": 480
      }
     },
     "output_type": "display_data"
    }
   ],
   "source": [
    "education_donut <- education %>% \n",
    "  dplyr::filter(stringr::str_trim(state, \"both\") == \"United States\") %>% \n",
    "  reshape2::melt(id=c(\"state\")) %>% \n",
    "  dplyr::rename(\"category\" = variable) %>% \n",
    "  dplyr::filter(category %in% c(\"reading\",\"math\",\"writing\")) %>% \n",
    "  dplyr::select(-state)\n",
    "\n",
    "# add addition columns, needed for drawing with geom_rect\n",
    "education_donut$fraction = education_donut$value / sum(education_donut$value)\n",
    "education_donut = education_donut[order(education_donut$fraction), ]\n",
    "education_donut$ymax = cumsum(education_donut$fraction)\n",
    "education_donut$ymin = c(0, head(education_donut$ymax, n=-1))\n",
    "\n",
    "# make the plot\n",
    "ggplot2::ggplot(education_donut, ggplot2::aes(fill=category, ymax=ymax, ymin=ymin, xmax=4, xmin=3)) +\n",
    "  ggplot2::geom_rect() +\n",
    "  ggplot2::coord_polar(theta=\"y\") +\n",
    "  ggplot2::xlim(c(0, 4)) +\n",
    "  ggplot2::theme(panel.grid=ggplot2::element_blank()) +\n",
    "  ggplot2::theme(axis.text=ggplot2::element_blank()) +\n",
    "  ggplot2::theme(axis.ticks=ggplot2::element_blank()) +\n",
    "  ggplot2::annotate(\"text\", x = 0, y = 0, label = \"Education Components\") +\n",
    "  ggplot2::labs(title=\"\")"
   ]
  },
  {
   "cell_type": "markdown",
   "id": "a595c24b",
   "metadata": {},
   "source": [
    "## R-Pie chart"
   ]
  },
  {
   "cell_type": "code",
   "execution_count": 10,
   "id": "968b189c",
   "metadata": {},
   "outputs": [
    {
     "data": {
      "image/png": "[encoded data removed]",
      "text/plain": [
       "Plot with title \"Education Components\""
      ]
     },
     "metadata": {
      "image/png": {
       "height": 300,
       "width": 480
      }
     },
     "output_type": "display_data"
    }
   ],
   "source": [
    "# pie chart\n",
    "slices <- education_donut$value\n",
    "lbls <- education_donut$category\n",
    "pie(slices, labels = lbls, main=\"Education Components\")"
   ]
  }
 ],
 "metadata": {
  "kernelspec": {
   "display_name": "R",
   "language": "R",
   "name": "ir"
  },
  "language_info": {
   "codemirror_mode": "r",
   "file_extension": ".r",
   "mimetype": "text/x-r-source",
   "name": "R",
   "pygments_lexer": "r",
   "version": "4.1.3"
  }
 },
 "nbformat": 4,
 "nbformat_minor": 5
}
